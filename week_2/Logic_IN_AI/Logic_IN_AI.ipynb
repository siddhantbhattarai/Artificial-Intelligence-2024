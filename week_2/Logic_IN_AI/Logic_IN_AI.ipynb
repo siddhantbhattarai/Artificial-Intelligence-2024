{
 "cells": [
  {
   "cell_type": "markdown",
   "id": "e3adae89-7477-4fe2-8b9c-6e7f6f470c9b",
   "metadata": {},
   "source": [
    "## **1. Family Tree Relationships**\n",
    "\n",
    "### **Concept:**  \n",
    "Using **predicate logic** to query relationships in a family tree.\n",
    "\n",
    "### **Implementation:**"
   ]
  },
  {
   "cell_type": "code",
   "execution_count": 4,
   "id": "bc3c5f35-3110-4fa0-9bfd-dbcc38fac4a9",
   "metadata": {},
   "outputs": [],
   "source": [
    "import collections\n",
    "if not hasattr(collections, 'Hashable'):\n",
    "    import collections.abc\n",
    "    collections.Hashable = collections.abc.Hashable"
   ]
  },
  {
   "cell_type": "code",
   "execution_count": 5,
   "id": "91280108-f998-4802-a20d-6d197a059591",
   "metadata": {},
   "outputs": [
    {
     "name": "stdout",
     "output_type": "stream",
     "text": [
      "Parents of Alex: ('Mary', 'John')\n",
      "Children of Paul: ('John', 'Jane')\n"
     ]
    }
   ],
   "source": [
    "from logpy import Relation, facts, run, var\n",
    "\n",
    "# Defining relations\n",
    "parent = Relation()\n",
    "\n",
    "# Adding parent-child facts\n",
    "facts(parent, (\"John\", \"Alex\"), (\"Mary\", \"Alex\"), (\"Paul\", \"John\"), (\"Paul\", \"Jane\"))\n",
    "\n",
    "# Variables for querying\n",
    "x = var()\n",
    "\n",
    "# Querying parents of \"Alex\"\n",
    "print(\"Parents of Alex:\", run(2, x, parent(x, \"Alex\")))  # Output: ['John', 'Mary']\n",
    "\n",
    "# Querying children of \"Paul\"\n",
    "print(\"Children of Paul:\", run(2, x, parent(\"Paul\", x)))  # Output: ['John', 'Jane']"
   ]
  },
  {
   "cell_type": "markdown",
   "id": "cee45a8b-0d74-49c1-8b47-7f5b4ce11b9b",
   "metadata": {},
   "source": [
    "### **Explanation:**  \n",
    "- `Relation()` creates the relationship.\n",
    "- `facts()` adds specific relationship facts.\n",
    "- `run(n, x, condition)` queries the facts (`n` is the number of results).\n",
    "\n",
    "---"
   ]
  },
  {
   "cell_type": "markdown",
   "id": "8702bb23-6615-4539-9897-11d0ba1613f9",
   "metadata": {},
   "source": [
    "## **2. Knowledge Base for Medical Diagnosis**\n",
    "\n",
    "### **Concept:**  \n",
    "Using **symbolic reasoning** to create a medical knowledge base for simple diagnostics.\n",
    "\n",
    "### **Implementation:**"
   ]
  },
  {
   "cell_type": "code",
   "execution_count": 6,
   "id": "93ddfa53-5776-497c-b3e1-c4a65cab0d0f",
   "metadata": {},
   "outputs": [
    {
     "name": "stdout",
     "output_type": "stream",
     "text": [
      "Diagnosis: Flu\n"
     ]
    }
   ],
   "source": [
    "from sympy import symbols, And, Or, Not\n",
    "\n",
    "# Define symptoms and conditions\n",
    "fever = symbols('fever')\n",
    "cough = symbols('cough')\n",
    "fatigue = symbols('fatigue')\n",
    "flu = symbols('flu')\n",
    "cold = symbols('cold')\n",
    "\n",
    "# Rules\n",
    "rule_flu = And(fever, cough, fatigue)  # Rule for flu\n",
    "rule_cold = And(cough, Not(fever))  # Rule for cold\n",
    "\n",
    "# Patient's condition\n",
    "patient_symptoms = {fever: True, cough: True, fatigue: True}\n",
    "\n",
    "# Diagnosing the condition\n",
    "if rule_flu.subs(patient_symptoms):\n",
    "    print(\"Diagnosis: Flu\")\n",
    "elif rule_cold.subs(patient_symptoms):\n",
    "    print(\"Diagnosis: Cold\")\n",
    "else:\n",
    "    print(\"No clear diagnosis\")"
   ]
  },
  {
   "cell_type": "markdown",
   "id": "43f3cfd0-f095-4cba-ba66-652e794753e3",
   "metadata": {},
   "source": [
    "### **Explanation:**  \n",
    "- Logic expressions (`And`, `Or`, `Not`) form the rules.\n",
    "- The patient’s symptoms are checked using `subs()` to match the rules.\n",
    "\n",
    "---"
   ]
  },
  {
   "cell_type": "markdown",
   "id": "5aa0d998-8ab9-4cfa-987b-2f486a994485",
   "metadata": {},
   "source": [
    "## **3. Pathfinding in a Grid (Using Predicate Logic)**\n",
    "\n",
    "### **Concept:**  \n",
    "AI pathfinding using logic-based reasoning to determine valid movements.\n",
    "\n",
    "### **Implementation:**"
   ]
  },
  {
   "cell_type": "code",
   "execution_count": 7,
   "id": "845438bf-490e-46f6-9f9c-de1e484cd90e",
   "metadata": {},
   "outputs": [
    {
     "name": "stdout",
     "output_type": "stream",
     "text": [
      "Points connected to A: ('E', 'B')\n"
     ]
    }
   ],
   "source": [
    "from logpy import Relation, facts, run, var\n",
    "\n",
    "# Relation for connected paths\n",
    "connected = Relation()\n",
    "\n",
    "# Defining connections between points in the grid\n",
    "facts(connected, (\"A\", \"B\"), (\"B\", \"C\"), (\"C\", \"D\"), (\"A\", \"E\"), (\"E\", \"F\"))\n",
    "\n",
    "# Querying paths from A to others\n",
    "destination = var()\n",
    "print(\"Points connected to A:\", run(5, destination, connected(\"A\", destination)))  # Output: ['B', 'E']"
   ]
  },
  {
   "cell_type": "markdown",
   "id": "2976c11c-f0c1-4f29-adc9-2b8b6b17a1fe",
   "metadata": {},
   "source": [
    "### **Explanation:**  \n",
    "The `connected` relation is used to check for adjacent points. We can extend this to implement a recursive search to find the shortest or all paths."
   ]
  },
  {
   "cell_type": "markdown",
   "id": "b53f8b66-1f12-4ff0-aee4-40ae5a2c0529",
   "metadata": {},
   "source": [
    "## **4. Rule-Based Expert System for Loan Eligibility**\n",
    "\n",
    "### **Concept:**  \n",
    "Implementing an **expert system** for financial eligibility decisions.\n",
    "\n",
    "### **Implementation:**"
   ]
  },
  {
   "cell_type": "code",
   "execution_count": 8,
   "id": "4c2fbdd6-a906-47bb-a191-a388e985ea9d",
   "metadata": {},
   "outputs": [
    {
     "name": "stdout",
     "output_type": "stream",
     "text": [
      "Loan Approved\n"
     ]
    }
   ],
   "source": [
    "from sympy import symbols, And, Or\n",
    "\n",
    "# Define conditions\n",
    "income = symbols('income')\n",
    "credit_score = symbols('credit_score')\n",
    "loan_approval = symbols('loan_approval')\n",
    "\n",
    "# Rules\n",
    "rule_approval = And(income > 30000, credit_score > 700)\n",
    "\n",
    "# Customer's details\n",
    "customer_info = {income: 45000, credit_score: 750}\n",
    "\n",
    "# Decision based on rules\n",
    "if rule_approval.subs(customer_info):\n",
    "    print(\"Loan Approved\")\n",
    "else:\n",
    "    print(\"Loan Denied\")"
   ]
  },
  {
   "cell_type": "markdown",
   "id": "6851e273-a4b5-48cf-b586-ae3ada00acd4",
   "metadata": {},
   "source": [
    "### **Explanation:**  \n",
    "- The system checks financial conditions against the defined thresholds.\n",
    "- New rules can be added dynamically to enhance the system."
   ]
  },
  {
   "cell_type": "markdown",
   "id": "430028aa-eed2-44a9-bbc0-84da8837ed07",
   "metadata": {},
   "source": [
    "## **5. Tic-Tac-Toe Game State Reasoning**\n",
    "\n",
    "### **Concept:**  \n",
    "Using logical reasoning to determine the winning condition in a Tic-Tac-Toe game.\n",
    "\n",
    "### **Implementation:**"
   ]
  },
  {
   "cell_type": "code",
   "execution_count": 9,
   "id": "db1938f6-bfcc-4809-807f-fb50b0c82854",
   "metadata": {},
   "outputs": [
    {
     "name": "stdout",
     "output_type": "stream",
     "text": [
      "Player X wins!\n"
     ]
    }
   ],
   "source": [
    "from sympy import symbols, Or\n",
    "\n",
    "# Board positions\n",
    "X1, X2, X3, O1, O2, O3 = symbols('X1 X2 X3 O1 O2 O3')\n",
    "\n",
    "# Winning condition\n",
    "win_x = Or(And(X1, X2, X3), And(O1, O2, O3))  # Horizontal win condition\n",
    "\n",
    "# Game state\n",
    "game_state = {X1: True, X2: True, X3: True, O1: False, O2: False, O3: False}\n",
    "\n",
    "if win_x.subs(game_state):\n",
    "    print(\"Player X wins!\")\n",
    "else:\n",
    "    print(\"No winner yet.\")"
   ]
  },
  {
   "cell_type": "markdown",
   "id": "980e0cd2-ffde-4bdf-ba19-f2117117e176",
   "metadata": {},
   "source": [
    "### **Explanation:**  \n",
    "This example uses logical `And` and `Or` operations to check if a winning combination is present on the board.\n",
    "\n",
    "---"
   ]
  },
  {
   "cell_type": "markdown",
   "id": "ef317a60-dacc-4515-a911-d89095abe220",
   "metadata": {},
   "source": [
    "## **6. Propositional Logic Solver**\n",
    "\n",
    "### **Concept:**  \n",
    "Check if a proposition is satisfiable.\n",
    "\n",
    "### **Implementation:**"
   ]
  },
  {
   "cell_type": "code",
   "execution_count": 10,
   "id": "cc837aaf-f839-4af7-ac2a-2d40c3758d8c",
   "metadata": {},
   "outputs": [
    {
     "name": "stdout",
     "output_type": "stream",
     "text": [
      "Solution: {B: True, A: True}\n"
     ]
    }
   ],
   "source": [
    "from sympy.logic import satisfiable\n",
    "from sympy import symbols\n",
    "\n",
    "A, B = symbols('A B')\n",
    "proposition = A & B  # A AND B\n",
    "\n",
    "# Checking satisfiability\n",
    "solutions = satisfiable(proposition, all_models=True)\n",
    "for sol in solutions:\n",
    "    print(\"Solution:\", sol)  # Output: {'A': True, 'B': True}"
   ]
  },
  {
   "cell_type": "markdown",
   "id": "f6e51837-50ef-4df9-9a87-8f56c2e69041",
   "metadata": {},
   "source": [
    "### **Explanation:**  \n",
    "- `satisfiable()` checks if there’s any combination of values that makes the proposition true.\n",
    "- Useful in theorem proving and validation.\n",
    "\n",
    "---"
   ]
  },
  {
   "cell_type": "markdown",
   "id": "9b0df2f5-ac91-411b-a430-792444423fac",
   "metadata": {},
   "source": [
    "## **7. AI Question-Answer System with Logic**\n",
    "\n",
    "### **Concept:**  \n",
    "Simple **Q&A system** to infer answers based on facts.\n",
    "\n",
    "### **Implementation:**"
   ]
  },
  {
   "cell_type": "code",
   "execution_count": 11,
   "id": "20918c16-c613-41b6-98e9-b722f5935907",
   "metadata": {},
   "outputs": [
    {
     "name": "stdout",
     "output_type": "stream",
     "text": [
      "Who knows Physics? ('Einstein',)\n"
     ]
    }
   ],
   "source": [
    "from logpy import Relation, facts, run, var\n",
    "\n",
    "# Define relation for knowledge\n",
    "knows = Relation()\n",
    "facts(knows, (\"Einstein\", \"Physics\"), (\"Newton\", \"Gravity\"), (\"Curie\", \"Radiation\"))\n",
    "\n",
    "# Query\n",
    "x = var()\n",
    "print(\"Who knows Physics?\", run(1, x, knows(x, \"Physics\")))  # Output: ['Einstein']"
   ]
  },
  {
   "cell_type": "markdown",
   "id": "21064768-75e0-4d63-a2eb-df7c5ab3659f",
   "metadata": {},
   "source": [
    "## **8. Traffic Light State Machine**\n",
    "\n",
    "### **Concept:**  \n",
    "Simulating traffic light state transitions using logic.\n",
    "\n",
    "### **Implementation:**"
   ]
  },
  {
   "cell_type": "code",
   "execution_count": 12,
   "id": "0650de1c-ed82-45d0-a17b-060d39bcd8e2",
   "metadata": {},
   "outputs": [
    {
     "name": "stdout",
     "output_type": "stream",
     "text": [
      "Traffic light is red\n"
     ]
    }
   ],
   "source": [
    "from sympy import symbols, And\n",
    "\n",
    "# States\n",
    "red = symbols('red')\n",
    "green = symbols('green')\n",
    "yellow = symbols('yellow')\n",
    "\n",
    "# State transition rule\n",
    "state_transition = And(red, Not(green), Not(yellow))\n",
    "\n",
    "# Current state\n",
    "current_state = {red: True, green: False, yellow: False}\n",
    "\n",
    "if state_transition.subs(current_state):\n",
    "    print(\"Traffic light is red\")"
   ]
  },
  {
   "cell_type": "markdown",
   "id": "1bbfc7da-350e-447f-a0d1-1ad81eda44b1",
   "metadata": {},
   "source": [
    "## **9. Logic-Based Chatbot**\n",
    "\n",
    "### **Concept:**  \n",
    "Implementing a basic rule-based chatbot.\n",
    "\n",
    "### **Implementation:**"
   ]
  },
  {
   "cell_type": "code",
   "execution_count": 13,
   "id": "cdfe994f-d1d2-479a-bbeb-a32e68c68c92",
   "metadata": {},
   "outputs": [
    {
     "name": "stdout",
     "output_type": "stream",
     "text": [
      "Hi there! How can I help you?\n"
     ]
    }
   ],
   "source": [
    "def chatbot_response(input_text):\n",
    "    if \"hello\" in input_text.lower():\n",
    "        return \"Hi there! How can I help you?\"\n",
    "    elif \"weather\" in input_text.lower():\n",
    "        return \"Today's weather is sunny with a chance of learning!\"\n",
    "    else:\n",
    "        return \"I'm not sure I understand.\"\n",
    "\n",
    "# Test chatbot\n",
    "print(chatbot_response(\"Hello!\"))  # Output: Hi there!"
   ]
  },
  {
   "cell_type": "code",
   "execution_count": null,
   "id": "a087bbe4-3684-4b83-a3c1-d08c9820a1a0",
   "metadata": {},
   "outputs": [],
   "source": []
  }
 ],
 "metadata": {
  "kernelspec": {
   "display_name": "Python 3 (ipykernel)",
   "language": "python",
   "name": "python3"
  },
  "language_info": {
   "codemirror_mode": {
    "name": "ipython",
    "version": 3
   },
   "file_extension": ".py",
   "mimetype": "text/x-python",
   "name": "python",
   "nbconvert_exporter": "python",
   "pygments_lexer": "ipython3",
   "version": "3.11.10"
  }
 },
 "nbformat": 4,
 "nbformat_minor": 5
}
