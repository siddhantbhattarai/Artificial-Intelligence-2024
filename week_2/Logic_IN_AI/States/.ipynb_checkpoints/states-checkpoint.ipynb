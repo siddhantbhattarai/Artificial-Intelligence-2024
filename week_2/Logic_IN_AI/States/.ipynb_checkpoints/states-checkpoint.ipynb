{
 "cells": [
  {
   "cell_type": "code",
   "execution_count": 1,
   "id": "632b6bf6-2ec9-44ad-85fb-8abcd9fc3130",
   "metadata": {},
   "outputs": [],
   "source": [
    "import collections\n",
    "if not hasattr(collections, 'Hashable'):\n",
    "    import collections.abc\n",
    "    collections.Hashable = collections.abc.Hashable"
   ]
  },
  {
   "cell_type": "code",
   "execution_count": 2,
   "id": "fbc8c23e-cea1-40dc-a8e1-6dd5cceef7fa",
   "metadata": {},
   "outputs": [
    {
     "name": "stdout",
     "output_type": "stream",
     "text": [
      "\n",
      "Is Nevada adjacent to Louisiana?:\n",
      "No\n",
      "\n",
      "List of states adjacent to Oregon:\n",
      "Washington\n",
      "Idaho\n",
      "Nevada\n",
      "California\n",
      "\n",
      "List of coastal states adjacent to Mississippi:\n",
      "Louisiana\n",
      "Alabama\n",
      "\n",
      "List of 7 states that border a coastal state:\n",
      "Indiana\n",
      "Mississippi\n",
      "Virginia\n",
      "Rhode Island\n",
      "Connecticut\n",
      "South Carolina\n",
      "Nevada\n",
      "\n",
      "List of states that are adjacent to Arkansas and Kentucky:\n",
      "Missouri\n",
      "Tennessee\n"
     ]
    }
   ],
   "source": [
    "from logpy import run, fact, eq, Relation, var\n",
    "\n",
    "adjacent = Relation()\n",
    "coastal = Relation()\n",
    "\n",
    "file_coastal = 'coastal_states.txt'\n",
    "file_adjacent = 'adjacent_states.txt'\n",
    "\n",
    "# Read the file containing the coastal states\n",
    "with open(file_coastal, 'r') as f:\n",
    "    line = f.read()\n",
    "    coastal_states = line.split(',')\n",
    "\n",
    "# Add the info to the fact base\n",
    "for state in coastal_states:\n",
    "    fact(coastal, state)\n",
    "\n",
    "# Read the file containing the coastal states\n",
    "with open(file_adjacent, 'r') as f:\n",
    "    adjlist = [line.strip().split(',') for line in f if line and line[0].isalpha()]\n",
    "\n",
    "# Add the info to the fact base\n",
    "for L in adjlist:\n",
    "    head, tail = L[0], L[1:]\n",
    "    for state in tail:\n",
    "        fact(adjacent, head, state)\n",
    "\n",
    "# Initialize the variables\n",
    "x = var()\n",
    "y = var()\n",
    "\n",
    "# Is Nevada adjacent to Louisiana?\n",
    "output = run(0, x, adjacent('Nevada', 'Louisiana'))\n",
    "print('\\nIs Nevada adjacent to Louisiana?:')\n",
    "print('Yes' if len(output) else 'No')\n",
    "\n",
    "# States adjacent to Oregon\n",
    "output = run(0, x, adjacent('Oregon', x))\n",
    "print('\\nList of states adjacent to Oregon:')\n",
    "for item in output:\n",
    "    print(item)\n",
    "\n",
    "# States adjacent to Mississippi that are coastal\n",
    "output = run(0, x, adjacent('Mississippi', x), coastal(x))\n",
    "print('\\nList of coastal states adjacent to Mississippi:')\n",
    "for item in output:\n",
    "    print(item)\n",
    "\n",
    "# List of 'n' states that border a coastal state\n",
    "n = 7\n",
    "output = run(n, x, coastal(y), adjacent(x, y))\n",
    "print('\\nList of ' + str(n) + ' states that border a coastal state:')\n",
    "for item in output:\n",
    "    print(item)\n",
    "\n",
    "# List of states that adjacent to the two given states\n",
    "output = run(0, x, adjacent('Arkansas', x), adjacent('Kentucky', x))\n",
    "print('\\nList of states that are adjacent to Arkansas and Kentucky:')\n",
    "for item in output:\n",
    "    print(item)\n",
    "\n"
   ]
  },
  {
   "cell_type": "code",
   "execution_count": null,
   "id": "dc248caf-75d2-4fa6-8320-f8f23ad296a8",
   "metadata": {},
   "outputs": [],
   "source": []
  }
 ],
 "metadata": {
  "kernelspec": {
   "display_name": "Python 3 (ipykernel)",
   "language": "python",
   "name": "python3"
  },
  "language_info": {
   "codemirror_mode": {
    "name": "ipython",
    "version": 3
   },
   "file_extension": ".py",
   "mimetype": "text/x-python",
   "name": "python",
   "nbconvert_exporter": "python",
   "pygments_lexer": "ipython3",
   "version": "3.11.10"
  }
 },
 "nbformat": 4,
 "nbformat_minor": 5
}
