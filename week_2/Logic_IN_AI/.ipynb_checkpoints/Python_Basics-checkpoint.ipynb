{
 "cells": [
  {
   "cell_type": "code",
   "execution_count": 1,
   "id": "fa3f76d7-ad4b-441b-9aa5-f14c4ec8cd61",
   "metadata": {},
   "outputs": [
    {
     "name": "stdout",
     "output_type": "stream",
     "text": [
      "4\n"
     ]
    }
   ],
   "source": [
    "# variables \n",
    "a = 2 \n",
    "b = a * a \n",
    "print (b) \n",
    "name = \"jo\" #single or double quotes allowed"
   ]
  },
  {
   "cell_type": "code",
   "execution_count": 2,
   "id": "2ce658b0-b9a8-4e02-92fc-8ed099c2db05",
   "metadata": {},
   "outputs": [
    {
     "name": "stdout",
     "output_type": "stream",
     "text": [
      "[1, 2, 3]\n",
      "[1, 2, 3, 4, 5, 6]\n",
      "[1, 2, 3, 4, 5, 6, 0]\n"
     ]
    }
   ],
   "source": [
    "z = [1,2,3] \n",
    "print(z) \n",
    "z.extend([4, 5, 6]) \n",
    "print(z)\n",
    "z.append(0)\n",
    "print(z)"
   ]
  },
  {
   "cell_type": "code",
   "execution_count": 3,
   "id": "a208a601-5f36-4c0f-a4df-7315102c024f",
   "metadata": {},
   "outputs": [
    {
     "name": "stdout",
     "output_type": "stream",
     "text": [
      "2\n"
     ]
    },
    {
     "data": {
      "text/plain": [
       "True"
      ]
     },
     "execution_count": 3,
     "metadata": {},
     "output_type": "execute_result"
    }
   ],
   "source": [
    "# Lists can be modified \n",
    "integer_list = [1, 2, 3, 4, 5, 6, 7, 8, 9] \n",
    "print(integer_list[1]) # indices of a list indicated by [] \n",
    "3 in integer_list #checks if 23 is in the integer_list"
   ]
  },
  {
   "cell_type": "code",
   "execution_count": 4,
   "id": "73c16154-a02d-4828-bdb7-15d21884a127",
   "metadata": {},
   "outputs": [
    {
     "name": "stdout",
     "output_type": "stream",
     "text": [
      "[1, 2]\n",
      "[5, 6, 7, 8, 9]\n"
     ]
    }
   ],
   "source": [
    "l =[] # example of an array structure \n",
    "l.append(['a','b','c'])\n",
    "l.append(['d','e','f']) # results in [['a', 'b', 'c'], ['d', 'e', 'f']]\n",
    "first_two = integer_list[:2] \n",
    "print(first_two) \n",
    "four_to_end = integer_list[4:] \n",
    "print(four_to_end) "
   ]
  },
  {
   "cell_type": "code",
   "execution_count": 5,
   "id": "fb05c599-0df9-4155-8e3f-7d729f6f40ec",
   "metadata": {},
   "outputs": [
    {
     "name": "stdout",
     "output_type": "stream",
     "text": [
      "[1, 2, 3, 4, 5]\n",
      "[4, 2, 3, 1, 5]\n",
      "[1, 2, 3, 4, 5]\n",
      "[4, 2, 3, 1, 5]\n"
     ]
    }
   ],
   "source": [
    "# all lists have a sort method \n",
    "x = [4, 2, 3, 1, 5] \n",
    "print(sorted(x)) # [1, 2, 3, 4, 5] \n",
    "print(x) #[4, 2, 3, 1, 5] \n",
    "y = sorted(x) \n",
    "print(y) # [1, 2, 3, 4, 5] \n",
    "print(x) # [4, 2, 3, 1, 5] \n",
    "x.sort() # sort() is the method print(x) # [1, 2, 3, 4, 5]"
   ]
  },
  {
   "cell_type": "code",
   "execution_count": 6,
   "id": "c6e51a0c-a742-4d13-9c4c-fa9908738923",
   "metadata": {},
   "outputs": [
    {
     "name": "stdout",
     "output_type": "stream",
     "text": [
      "[1, 3]\n"
     ]
    }
   ],
   "source": [
    "# transforming lists \n",
    "x= [1, 2, 3, 4, 5] \n",
    "evens = [x for x in range(5) if x % 2 == 0]\n",
    "odds = [x for x in range (5) if x % 2 > 0]\n",
    "print(odds) # [0, 2, 4] "
   ]
  },
  {
   "cell_type": "code",
   "execution_count": 7,
   "id": "c36438b7-3a99-47dc-98f4-48c54198f761",
   "metadata": {},
   "outputs": [],
   "source": [
    "#tuples - like lists but cant be changed. use () or no braces \n",
    "mytuple1 = (1,2) \n",
    "mytuple2 = 3, 4 "
   ]
  },
  {
   "cell_type": "code",
   "execution_count": 8,
   "id": "3226b082-9743-4ea5-9015-5c3d1ef45868",
   "metadata": {},
   "outputs": [
    {
     "name": "stdout",
     "output_type": "stream",
     "text": [
      "80\n"
     ]
    }
   ],
   "source": [
    "#dictionaries - associate things like a DB \n",
    "emptydict = {} \n",
    "emptydict2 = {} \n",
    "grades = { \"jo\" : 80, \"tim\" : 90 } \n",
    "print(grades[\"jo\"]) \n",
    "s={} \n",
    "s[1] = {'date':1/1/16, 'symbol':'fox','price':4.44} \n",
    "s[2] = {'date':2/1/16, 'symbol':'2ppl','price':24.44}"
   ]
  },
  {
   "cell_type": "code",
   "execution_count": 9,
   "id": "248eeaed-b51b-42e3-a1bf-8c5c36d1c2e4",
   "metadata": {},
   "outputs": [
    {
     "name": "stdout",
     "output_type": "stream",
     "text": [
      "0.5714025946899135\n"
     ]
    }
   ],
   "source": [
    "# 1 Random \n",
    "import random \n",
    "random.seed(10) \n",
    "print(random.random())"
   ]
  },
  {
   "cell_type": "code",
   "execution_count": 10,
   "id": "c9ae17b5-38c8-49c1-b02e-dd521dee55b8",
   "metadata": {},
   "outputs": [
    {
     "name": "stdout",
     "output_type": "stream",
     "text": [
      "found\n"
     ]
    }
   ],
   "source": [
    "# 2 Regular expressions \n",
    "import re\n",
    "str = 'an example word:cat !!'\n",
    "match = re.search(r'word:\\w\\w\\w', str)\n",
    "# If-statement after search() tests if it succeeded \n",
    "if match:\n",
    "    print ('found'), match.group() ## 'found word:cat'\n",
    "else:\n",
    "    print ('did not find')"
   ]
  },
  {
   "cell_type": "code",
   "execution_count": 11,
   "id": "5ae9d198-fb3a-4858-ba3e-94b40d96a78b",
   "metadata": {},
   "outputs": [
    {
     "name": "stdout",
     "output_type": "stream",
     "text": [
      "<re.Match object; span=(1, 4), match='iii'>\n",
      "None\n"
     ]
    }
   ],
   "source": [
    "import re\n",
    "## Search for pattern 'iii' in string 'piiig'. \n",
    "## All of the pattern must match, but it may appear anywhere. \n",
    "## On success, match.group() is matched text. \n",
    "match = re.search(r'iii', 'piiig') #=> found, match.group() == \"iii\" \n",
    "print(match) \n",
    "match = re.search(r'igs', 'piiig') #=> not found, match == None \n",
    "print(match)\n"
   ]
  },
  {
   "cell_type": "code",
   "execution_count": 12,
   "id": "fc4961b8-0c99-438c-b582-eed7e02b1699",
   "metadata": {},
   "outputs": [
    {
     "name": "stdout",
     "output_type": "stream",
     "text": [
      "<zip object at 0x7c8a60fbce80>\n",
      "(1, 2, 3)\n",
      "(4, 5, 6)\n"
     ]
    },
    {
     "data": {
      "text/plain": [
       "True"
      ]
     },
     "execution_count": 12,
     "metadata": {},
     "output_type": "execute_result"
    }
   ],
   "source": [
    "import re\n",
    "# 3 zip-ing data together. Python works left to right \n",
    "x = [1, 2, 3] \n",
    "y = [4, 5, 6] \n",
    "zipped = zip(x, y) \n",
    "print (zipped) # [(1, 4), (2, 5), (3, 6)]\n",
    "x2, y2 = zip(*zipped)\n",
    "print (x2)\n",
    "print (y2)\n",
    "x == list(x2) and y == list(y2) "
   ]
  },
  {
   "cell_type": "code",
   "execution_count": 13,
   "id": "c829b8f7-a49d-434e-a66c-b9af3681ee99",
   "metadata": {},
   "outputs": [
    {
     "name": "stdout",
     "output_type": "stream",
     "text": [
      "0.5714025946899135\n",
      "found\n",
      "<re.Match object; span=(1, 4), match='iii'>\n",
      "None\n",
      "<zip object at 0x7c8a60fbb880>\n",
      "(1, 2, 3)\n",
      "(4, 5, 6)\n"
     ]
    },
    {
     "data": {
      "text/plain": [
       "True"
      ]
     },
     "execution_count": 13,
     "metadata": {},
     "output_type": "execute_result"
    }
   ],
   "source": [
    "# 1 Random \n",
    "import random \n",
    "random.seed(10) \n",
    "print(random.random()) \n",
    "\n",
    "# 2 Regular expressions \n",
    "import re \n",
    "str = 'an example word:cat !!' \n",
    "match = re.search(r'word:\\w\\w\\w', str) \n",
    "# If-statement after search() tests if it succeeded \n",
    "if match: \n",
    "    print ('found'), match.group() ## 'found word:cat' \n",
    "else: \n",
    "    print ('did not find')\n",
    "\n",
    "## Search for pattern 'iii' in string 'piiig'. \n",
    "## All of the pattern must match, but it may appear anywhere. \n",
    "## On success, match.group() is matched text. \n",
    "match = re.search(r'iii', 'piiig') #=> found, match.group() == \"iii\" \n",
    "print(match) \n",
    "match = re.search(r'igs', 'piiig') #=> not found, match == None \n",
    "print(match) \n",
    "\n",
    "# 3 zip-ing data together. Python works left to right \n",
    "x = [1, 2, 3] \n",
    "y = [4, 5, 6] \n",
    "zipped = zip(x, y)\n",
    "print (zipped) # [(1, 4), (2, 5), (3, 6)] \n",
    "x2, y2 = zip(*zipped) \n",
    "print (x2) \n",
    "print (y2) \n",
    "x == list(x2) and y == list(y2) "
   ]
  },
  {
   "cell_type": "code",
   "execution_count": 14,
   "id": "6c4196c4-d16b-40db-ae0a-1e75e7b5fb8a",
   "metadata": {},
   "outputs": [
    {
     "name": "stdout",
     "output_type": "stream",
     "text": [
      "Robot at:  a\n",
      "Goal is:  c\n"
     ]
    }
   ],
   "source": [
    "# Depth First search of 4 rooms, a, b, c, d \n",
    "def findworld(x):\n",
    "    znext = 'z'  # dummy value for  next    \n",
    "    c = 0\n",
    "    for c in range(len(world)): # pairs of links from (f) to destination (t)\n",
    "        f = world[c][0]\n",
    "        t = world[c][1]\n",
    "        if(x == world[c][0]) : znext = world[c][1]; break\n",
    "    return znext\n",
    "\n",
    "world = [['a', 'b'], ['b', 'c'], ['a', 'd']] # this is a set of linked rooms from a to d\n",
    "initial ='a'  # initial starting room g\n",
    "goal = 'c'  # final destination goal\n",
    "route = []  # keep rooms visited as a route\n",
    "queue = []\n",
    "\n",
    "queue.append(initial) # the starting (initial) room\n",
    "\n",
    "print(\"Robot at: \", initial)\n",
    "print(\"Goal is: \", goal)\n",
    "computer = 0"
   ]
  },
  {
   "cell_type": "code",
   "execution_count": 15,
   "id": "8b5e98ae-17b5-4bdb-8fe3-a8c55a24cf3d",
   "metadata": {},
   "outputs": [
    {
     "name": "stdout",
     "output_type": "stream",
     "text": [
      "['a']\n",
      "['a', 'b']\n",
      "['a', 'b', 'c']\n"
     ]
    }
   ],
   "source": [
    "# the loop explores our  \n",
    "while queue != None:  # if queue then stop\n",
    "    headq = queue[0][0]  # pull first item in queue into head\n",
    "    route.append(headq)  # add each locaton (headq) to route\n",
    "    tail = queue[1:len(queue)]  # get tail of queue after first item removed\n",
    "    nextlink = findworld(headq[0][0])  # returns the next linked room\n",
    "    newqueue = []  # make a new queue including the next link to follow + tail\n",
    "    newqueue += nextlink\n",
    "    newqueue += tail\n",
    "    queue = newqueue\n",
    "    print (route)\n",
    "        \n",
    "    if(headq == goal):\n",
    "        break"
   ]
  },
  {
   "cell_type": "code",
   "execution_count": 16,
   "id": "1016fb8e-7caf-4e49-8ec1-72b9d71cbbdb",
   "metadata": {},
   "outputs": [
    {
     "name": "stdout",
     "output_type": "stream",
     "text": [
      "Robot at:  a\n",
      "Goal is:  b\n",
      "hq  a\n",
      "1\n",
      "tail  []\n",
      "f  a\n",
      "t  b\n",
      "find x a\n",
      "find world b\n",
      "nextlink  b\n",
      "q ['b']\n",
      "hq  b\n",
      "2\n",
      "tail  []\n",
      "f  a\n",
      "t  b\n",
      "find x b\n",
      "find world b\n",
      "f  b\n",
      "t  c\n",
      "find x b\n",
      "find world c\n",
      "nextlink  c\n",
      "q ['c']\n"
     ]
    }
   ],
   "source": [
    "def findworld(x): \n",
    "    znext = 'z'\n",
    "    c = 0\n",
    "    \n",
    "    for c in range(len(world)):\n",
    "        f = world[c][0]\n",
    "        t = world[c][1]\n",
    "        print(\"f \",f)\n",
    "        print(\"t \",t)\n",
    "        print(\"find x\", x)\n",
    "        print(\"find world\", world[c][1])             \n",
    "        if(x == world[c][0]) : znext = world[c][1]; break\n",
    "    return znext;\n",
    "    \n",
    "world = [['a', 'b'], ['b', 'c'], ['a', 'd']]\n",
    "\n",
    "initial ='a'\n",
    "goal = 'b'\n",
    "route = []\n",
    "queue = []\n",
    "\n",
    "queue.append(initial)\n",
    "\n",
    "print(\"Robot at: \", initial)\n",
    "print(\"Goal is: \", goal)\n",
    "compter = 0\n",
    "\n",
    "while queue != None:\n",
    "    headq = queue[0][0]\n",
    "    print(\"hq \", headq)\n",
    "    route.append(headq)\n",
    "    compter = compter + 1\n",
    "    print (compter)\n",
    "    tail = queue[1:len(queue)]\n",
    "    print(\"tail \", tail)\n",
    "    nextlink = findworld(headq[0][0])\n",
    "    print(\"nextlink \", nextlink)\n",
    "    newqueue = []\n",
    "    newqueue += nextlink\n",
    "    newqueue += tail\n",
    "    queue = newqueue\n",
    "    print(\"q\", queue)\n",
    "\n",
    "    if(headq == goal):\n",
    "        break\n"
   ]
  },
  {
   "cell_type": "code",
   "execution_count": null,
   "id": "554d24a8-2687-4cec-89dd-25a0331b4813",
   "metadata": {},
   "outputs": [],
   "source": []
  }
 ],
 "metadata": {
  "kernelspec": {
   "display_name": "Python 3 (ipykernel)",
   "language": "python",
   "name": "python3"
  },
  "language_info": {
   "codemirror_mode": {
    "name": "ipython",
    "version": 3
   },
   "file_extension": ".py",
   "mimetype": "text/x-python",
   "name": "python",
   "nbconvert_exporter": "python",
   "pygments_lexer": "ipython3",
   "version": "3.11.10"
  }
 },
 "nbformat": 4,
 "nbformat_minor": 5
}
