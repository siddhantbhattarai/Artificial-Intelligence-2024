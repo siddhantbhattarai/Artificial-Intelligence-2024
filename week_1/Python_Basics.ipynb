{
 "cells": [
  {
   "cell_type": "markdown",
   "id": "63afcb2f-e957-43b9-941c-d8ae171f06ec",
   "metadata": {},
   "source": [
    "### **Code Examples:**\n",
    "\n",
    "#### **1. Variables and Comments**"
   ]
  },
  {
   "cell_type": "code",
   "execution_count": 1,
   "id": "e6165b4a-c0e2-45fc-97b4-772846809d69",
   "metadata": {},
   "outputs": [
    {
     "name": "stdout",
     "output_type": "stream",
     "text": [
      "4\n"
     ]
    }
   ],
   "source": [
    "# Comments are after a hash\n",
    "a = 2  # This assigns 2 to a\n",
    "b = 2  # This assigns 2 to b\n",
    "c = a + b  # Adds a and b\n",
    "print(c)"
   ]
  },
  {
   "cell_type": "markdown",
   "id": "c8f9d174-8d03-4b5a-a68b-610353683c51",
   "metadata": {},
   "source": [
    "#### **2. Lists and Indexing**"
   ]
  },
  {
   "cell_type": "code",
   "execution_count": 2,
   "id": "70e308da-8799-4804-bec5-0aa448fa4879",
   "metadata": {},
   "outputs": [
    {
     "name": "stdout",
     "output_type": "stream",
     "text": [
      "10\n",
      "30\n"
     ]
    }
   ],
   "source": [
    "my_list = [10, 20, 30, 40, 50]\n",
    "print(my_list[0])\n",
    "print(my_list[2])"
   ]
  },
  {
   "cell_type": "markdown",
   "id": "95bd3869-5a4e-4f0c-8888-962ae1c4b6c9",
   "metadata": {},
   "source": [
    "#### **3. Sorting Arrays**"
   ]
  },
  {
   "cell_type": "code",
   "execution_count": 3,
   "id": "a93c7f56-09ee-461c-9f56-af2268abbd45",
   "metadata": {},
   "outputs": [
    {
     "name": "stdout",
     "output_type": "stream",
     "text": [
      "[1, 2, 3, 4, 5]\n"
     ]
    }
   ],
   "source": [
    "arr = [3, 5, 2, 4, 1]\n",
    "arr.sort()\n",
    "print(arr)"
   ]
  },
  {
   "cell_type": "markdown",
   "id": "11c87117-0c62-4c30-89de-345426248d99",
   "metadata": {},
   "source": [
    "#### **4. Dictionaries**"
   ]
  },
  {
   "cell_type": "code",
   "execution_count": 4,
   "id": "8a7fab90-a9f4-4b13-9402-446345ae17e7",
   "metadata": {},
   "outputs": [
    {
     "name": "stdout",
     "output_type": "stream",
     "text": [
      "92\n"
     ]
    }
   ],
   "source": [
    "student_marks = {\"John\": 85, \"Jane\": 92, \"Alex\": 78}\n",
    "print(student_marks[\"Jane\"])"
   ]
  },
  {
   "cell_type": "markdown",
   "id": "ddae3769-4795-47a7-abbc-c3e1eeb34ae2",
   "metadata": {},
   "source": [
    "#### **5. Tuples (Immutable Lists)**"
   ]
  },
  {
   "cell_type": "code",
   "execution_count": 5,
   "id": "ca12c329-8a8a-4a33-b1d7-2f93fb32f769",
   "metadata": {},
   "outputs": [
    {
     "name": "stdout",
     "output_type": "stream",
     "text": [
      "20.5\n"
     ]
    }
   ],
   "source": [
    "coordinates = (10.5, 20.5)\n",
    "print(coordinates[1]) "
   ]
  },
  {
   "cell_type": "markdown",
   "id": "dcd081d2-7c3c-4eaa-9d41-4c4a454a08a4",
   "metadata": {},
   "source": [
    "#### **6. Functions**"
   ]
  },
  {
   "cell_type": "code",
   "execution_count": 6,
   "id": "3c3583e7-ec75-4b0f-8055-bdfd5b40bb28",
   "metadata": {},
   "outputs": [
    {
     "name": "stdout",
     "output_type": "stream",
     "text": [
      "16\n"
     ]
    }
   ],
   "source": [
    "def square(x):\n",
    "    return x ** 2\n",
    "\n",
    "print(square(4))"
   ]
  },
  {
   "cell_type": "markdown",
   "id": "5b2f0c86-4c82-40e7-ae3b-3b72f3ac7be8",
   "metadata": {},
   "source": [
    "#### **7. Loops (Averaging Program Example)**"
   ]
  },
  {
   "cell_type": "code",
   "execution_count": 7,
   "id": "214ce610-cb05-464b-846d-cfa8d550ed33",
   "metadata": {},
   "outputs": [
    {
     "name": "stdout",
     "output_type": "stream",
     "text": [
      "Average: 18.0\n"
     ]
    }
   ],
   "source": [
    "numbers = [4, 8, 15, 16, 23, 42]\n",
    "total = 0\n",
    "for num in numbers:\n",
    "    total += num\n",
    "average = total / len(numbers)\n",
    "print(\"Average:\", average)"
   ]
  },
  {
   "cell_type": "markdown",
   "id": "6350ae09-8c8d-4944-af3a-93c2536af7ba",
   "metadata": {},
   "source": [
    "#### **8. Temperature Conversion (Exercise Solution)**"
   ]
  },
  {
   "cell_type": "code",
   "execution_count": 8,
   "id": "f6779ea6-377f-4ced-a0a0-845f90516f09",
   "metadata": {},
   "outputs": [
    {
     "name": "stdout",
     "output_type": "stream",
     "text": [
      "37.77777777777778\n",
      "100.004\n"
     ]
    }
   ],
   "source": [
    "def fahrenheit_to_celsius(f):\n",
    "    return (f - 32) / 1.8\n",
    "\n",
    "def celsius_to_fahrenheit(c):\n",
    "    return (c * 1.8) + 32\n",
    "\n",
    "print(fahrenheit_to_celsius(100)) \n",
    "print(celsius_to_fahrenheit(37.78))"
   ]
  },
  {
   "cell_type": "markdown",
   "id": "36f14d50-bd2c-4b92-b003-0df256cadd5b",
   "metadata": {},
   "source": [
    "### **Additional Examples and Scenarios:**"
   ]
  },
  {
   "cell_type": "markdown",
   "id": "6437a222-f070-493f-a5a0-ba9df6f1493d",
   "metadata": {},
   "source": [
    "#### **1. Calculating Factorials Using `for` Loop**\n",
    "*Scenario:* Write a program to calculate the factorial of a number."
   ]
  },
  {
   "cell_type": "code",
   "execution_count": 9,
   "id": "d0e65269-75be-4bf4-ae3b-f49d94dcf901",
   "metadata": {},
   "outputs": [
    {
     "name": "stdout",
     "output_type": "stream",
     "text": [
      "120\n"
     ]
    }
   ],
   "source": [
    "def factorial(n):\n",
    "    result = 1\n",
    "    for i in range(1, n + 1):\n",
    "        result *= i\n",
    "    return result\n",
    "\n",
    "print(factorial(5))"
   ]
  },
  {
   "cell_type": "markdown",
   "id": "8c277f11-2396-4c0e-a325-9c0eb4ce098d",
   "metadata": {},
   "source": [
    "#### **2. Check for Prime Numbers**\n",
    "*Scenario:* Write a program to check if a number is prime."
   ]
  },
  {
   "cell_type": "code",
   "execution_count": 10,
   "id": "664bc859-2c4c-4d9f-b2d8-269533baab02",
   "metadata": {},
   "outputs": [
    {
     "name": "stdout",
     "output_type": "stream",
     "text": [
      "True\n"
     ]
    }
   ],
   "source": [
    "def is_prime(num):\n",
    "    if num < 2:\n",
    "        return False\n",
    "    for i in range(2, int(num ** 0.5) + 1):\n",
    "        if num % i == 0:\n",
    "            return False\n",
    "    return True\n",
    "\n",
    "print(is_prime(7))"
   ]
  },
  {
   "cell_type": "markdown",
   "id": "7523a8dc-1eee-47ea-b45d-0c434cfa19b5",
   "metadata": {},
   "source": [
    "#### **3. Simple Calculator with User Input**\n",
    "*Scenario:* Create a basic calculator."
   ]
  },
  {
   "cell_type": "code",
   "execution_count": 13,
   "id": "977a39d6-5fae-42e9-ba4c-46e8f1c81648",
   "metadata": {},
   "outputs": [
    {
     "name": "stdin",
     "output_type": "stream",
     "text": [
      "Enter the first number:  12\n",
      "Enter an operator (+, -, *, /):  +\n",
      "Enter the second number:  12\n"
     ]
    },
    {
     "name": "stdout",
     "output_type": "stream",
     "text": [
      "Result: 24.0\n"
     ]
    }
   ],
   "source": [
    "def calculator():\n",
    "    num1 = float(input(\"Enter the first number: \"))\n",
    "    operator = input(\"Enter an operator (+, -, *, /): \")\n",
    "    num2 = float(input(\"Enter the second number: \"))\n",
    "    \n",
    "    if operator == '+':\n",
    "        print(\"Result:\", num1 + num2)\n",
    "    elif operator == '-':\n",
    "        print(\"Result:\", num1 - num2)\n",
    "    elif operator == '*':\n",
    "        print(\"Result:\", num1 * num2)\n",
    "    elif operator == '/':\n",
    "        print(\"Result:\", num1 / num2)\n",
    "    else:\n",
    "        print(\"Invalid operator\")\n",
    "\n",
    "calculator()"
   ]
  },
  {
   "cell_type": "markdown",
   "id": "744397da-7a41-47b1-8c16-f580349cd3b2",
   "metadata": {},
   "source": [
    "#### **4. Find Maximum and Minimum in a List**\n",
    "*Scenario:* Write a program to find the largest and smallest numbers in a list."
   ]
  },
  {
   "cell_type": "code",
   "execution_count": 14,
   "id": "c2c1adfc-f4df-4b37-a012-42e2eb3b51fa",
   "metadata": {},
   "outputs": [
    {
     "name": "stdout",
     "output_type": "stream",
     "text": [
      "Min and Max: (2, 75)\n"
     ]
    }
   ],
   "source": [
    "def find_min_max(lst):\n",
    "    min_val = min(lst)\n",
    "    max_val = max(lst)\n",
    "    return min_val, max_val\n",
    "\n",
    "numbers = [12, 43, 54, 2, 9, 75]\n",
    "print(\"Min and Max:\", find_min_max(numbers))"
   ]
  },
  {
   "cell_type": "markdown",
   "id": "1a199eee-9910-4a71-9bff-233cca6a1d0b",
   "metadata": {},
   "source": [
    "#### **5. Count Words in a Sentence**\n",
    "*Scenario:* Count the number of words in a sentence entered by the user."
   ]
  },
  {
   "cell_type": "code",
   "execution_count": 15,
   "id": "a65e183d-0e2c-4429-ac97-5e8ea5104e89",
   "metadata": {},
   "outputs": [
    {
     "name": "stdin",
     "output_type": "stream",
     "text": [
      "Enter a sentence:  Hello K xa KHBR?\n"
     ]
    },
    {
     "name": "stdout",
     "output_type": "stream",
     "text": [
      "Word count: 4\n"
     ]
    }
   ],
   "source": [
    "def count_words(sentence):\n",
    "    words = sentence.split()\n",
    "    return len(words)\n",
    "\n",
    "sentence = input(\"Enter a sentence: \")\n",
    "print(\"Word count:\", count_words(sentence))"
   ]
  },
  {
   "cell_type": "markdown",
   "id": "914c0821-3441-48fe-b963-c8313ca419dc",
   "metadata": {},
   "source": [
    "#### **6. Fibonacci Series**\n",
    "*Scenario:* Generate the first `n` Fibonacci numbers."
   ]
  },
  {
   "cell_type": "code",
   "execution_count": 16,
   "id": "bfa0ea39-52b3-4cb1-99a1-72901e0d58f3",
   "metadata": {},
   "outputs": [
    {
     "name": "stdout",
     "output_type": "stream",
     "text": [
      "[0, 1, 1, 2, 3, 5, 8, 13, 21, 34]\n"
     ]
    }
   ],
   "source": [
    "def fibonacci(n):\n",
    "    a, b = 0, 1\n",
    "    fib_series = []\n",
    "    for _ in range(n):\n",
    "        fib_series.append(a)\n",
    "        a, b = b, a + b\n",
    "    return fib_series\n",
    "\n",
    "print(fibonacci(10))  # Output: First 10 Fibonacci numbers"
   ]
  },
  {
   "cell_type": "markdown",
   "id": "dbfbda73-191e-4f8f-922f-14c63373e1c0",
   "metadata": {},
   "source": [
    "#### **7. Grade Categorization**\n",
    "*Scenario:* Write a program that takes a student's mark and categorizes it into a grade."
   ]
  },
  {
   "cell_type": "code",
   "execution_count": 17,
   "id": "f3c2c5af-7c79-49ec-bfa4-55189ee859df",
   "metadata": {},
   "outputs": [
    {
     "name": "stdout",
     "output_type": "stream",
     "text": [
      "Grade: B\n"
     ]
    }
   ],
   "source": [
    "def grade_categorization(marks):\n",
    "    if marks >= 90:\n",
    "        return \"A\"\n",
    "    elif marks >= 75:\n",
    "        return \"B\"\n",
    "    elif marks >= 60:\n",
    "        return \"C\"\n",
    "    elif marks >= 50:\n",
    "        return \"D\"\n",
    "    else:\n",
    "        return \"F\"\n",
    "\n",
    "print(\"Grade:\", grade_categorization(88))"
   ]
  },
  {
   "cell_type": "markdown",
   "id": "4d4e3ada-f771-4844-ae8e-4a6e343501d0",
   "metadata": {},
   "source": [
    "### **Few More Examples**\n",
    "#### **1. Comments and Variables**\n",
    "**Concept:**  \n",
    "In Python, comments are added with a `#` to explain the code. Variables store data and are assigned using `=`. Python does not require explicit data types.\n",
    "\n",
    "**Hands-on Example:**  "
   ]
  },
  {
   "cell_type": "code",
   "execution_count": 18,
   "id": "1ccecab5-046f-4c46-8058-2ba87941e068",
   "metadata": {},
   "outputs": [
    {
     "name": "stdout",
     "output_type": "stream",
     "text": [
      "15\n"
     ]
    }
   ],
   "source": [
    "# This is a comment explaining the code\n",
    "x = 5  # Assigns 5 to variable x\n",
    "y = 10  # Assigns 10 to variable y\n",
    "sum = x + y  # Adds x and y\n",
    "print(sum)  # Output: 15"
   ]
  },
  {
   "cell_type": "markdown",
   "id": "1c372f6c-d1ea-444f-88e2-ce922ff81d84",
   "metadata": {},
   "source": [
    "#### **2. Lists and Indexing**\n",
    "\n",
    "**Concept:**  \n",
    "Lists are used to store multiple items in a single variable. Lists in Python are indexed starting from 0.\n",
    "\n",
    "**Hands-on Example:**  "
   ]
  },
  {
   "cell_type": "code",
   "execution_count": 19,
   "id": "d54d1b11-b3fd-4137-bfe9-195f13e8df09",
   "metadata": {},
   "outputs": [
    {
     "name": "stdout",
     "output_type": "stream",
     "text": [
      "Apple\n",
      "Cherry\n"
     ]
    }
   ],
   "source": [
    "fruits = [\"Apple\", \"Banana\", \"Cherry\", \"Date\"]\n",
    "print(fruits[0])  # Output: Apple\n",
    "print(fruits[2])  # Output: Cherry"
   ]
  },
  {
   "cell_type": "markdown",
   "id": "c94b1bb3-4f32-4a1a-8d38-0eaa4c859ef0",
   "metadata": {},
   "source": [
    "#### **3. Sorting Lists**\n",
    "\n",
    "**Concept:**  \n",
    "Lists can be sorted in ascending order using the `sort()` method.\n",
    "\n",
    "**Hands-on Example:** "
   ]
  },
  {
   "cell_type": "code",
   "execution_count": 20,
   "id": "09f6edd8-b6e4-4795-b8af-fdf4bdd65222",
   "metadata": {},
   "outputs": [
    {
     "name": "stdout",
     "output_type": "stream",
     "text": [
      "[1, 4, 5, 9, 12]\n"
     ]
    }
   ],
   "source": [
    "numbers = [12, 4, 5, 9, 1]\n",
    "numbers.sort()\n",
    "print(numbers)  # Output: [1, 4, 5, 9, 12]"
   ]
  },
  {
   "cell_type": "markdown",
   "id": "f7e6713b-69d8-4f52-8de1-d8f88f95d00a",
   "metadata": {},
   "source": [
    "#### **4. Tuples (Immutable Lists)**\n",
    "\n",
    "**Concept:**  \n",
    "Tuples are similar to lists but cannot be changed once created. Tuples use round brackets `()`.\n",
    "\n",
    "**Hands-on Example:**  "
   ]
  },
  {
   "cell_type": "code",
   "execution_count": 21,
   "id": "629eb2da-52da-4f0b-850e-3baa1feaf4ef",
   "metadata": {},
   "outputs": [
    {
     "name": "stdout",
     "output_type": "stream",
     "text": [
      "1920\n"
     ]
    }
   ],
   "source": [
    "dimensions = (1920, 1080)\n",
    "print(dimensions[0])  # Output: 1920"
   ]
  },
  {
   "cell_type": "markdown",
   "id": "1b37ba7c-e48f-4813-a8c8-151177d3a919",
   "metadata": {},
   "source": [
    "### **5. Dictionaries**\n",
    "\n",
    "**Concept:**  \n",
    "Dictionaries store data in key-value pairs. Use curly braces `{}` and access values using keys.\n",
    "\n",
    "**Hands-on Example:**"
   ]
  },
  {
   "cell_type": "code",
   "execution_count": 22,
   "id": "cbdf0b2e-5a28-4996-a19f-99f4a464dec7",
   "metadata": {},
   "outputs": [
    {
     "name": "stdout",
     "output_type": "stream",
     "text": [
      "John\n",
      "85\n"
     ]
    }
   ],
   "source": [
    "student = {\"name\": \"John\", \"age\": 21, \"marks\": 85}\n",
    "print(student[\"name\"])  # Output: John\n",
    "print(student[\"marks\"])  # Output: 85"
   ]
  },
  {
   "cell_type": "markdown",
   "id": "a07160c5-3579-44bc-b7c9-e16593602b1e",
   "metadata": {},
   "source": [
    "#### **6. Sets**\n",
    "\n",
    "**Concept:**  \n",
    "Sets are collections of unique elements, meaning no duplicates are allowed.\n",
    "\n",
    "**Hands-on Example:**  "
   ]
  },
  {
   "cell_type": "code",
   "execution_count": 23,
   "id": "3690e246-59ec-4dcf-ad0f-55a3d89c97e1",
   "metadata": {},
   "outputs": [
    {
     "name": "stdout",
     "output_type": "stream",
     "text": [
      "{1, 2, 3, 4, 5}\n"
     ]
    }
   ],
   "source": [
    "my_set = {1, 2, 3, 4, 4, 5}\n",
    "print(my_set)  # Output: {1, 2, 3, 4, 5}"
   ]
  },
  {
   "cell_type": "markdown",
   "id": "257657e6-bc7c-4264-88ff-6cc87e5ed954",
   "metadata": {},
   "source": [
    "#### **7. Functions**\n",
    "\n",
    "**Concept:**  \n",
    "Functions are blocks of reusable code that are created using `def`. They can take arguments and return values.\n",
    "\n",
    "**Hands-on Example:** "
   ]
  },
  {
   "cell_type": "code",
   "execution_count": 24,
   "id": "123b2a6f-2f55-421f-ab3f-e98e201c7fc0",
   "metadata": {},
   "outputs": [
    {
     "name": "stdout",
     "output_type": "stream",
     "text": [
      "Hello, Alice\n"
     ]
    }
   ],
   "source": [
    "def greet(name):\n",
    "    return \"Hello, \" + name\n",
    "\n",
    "print(greet(\"Alice\"))  # Output: Hello, Alice"
   ]
  },
  {
   "cell_type": "markdown",
   "id": "8ae92c1d-e56a-431a-ade6-5f9e98c28b74",
   "metadata": {},
   "source": [
    "#### **8. Loops**\n",
    "\n",
    "**Concept:**  \n",
    "Loops allow repeated execution of a block of code. Common loops include `for` and `while`.\n",
    "\n",
    "**Hands-on Example (For Loop):**  "
   ]
  },
  {
   "cell_type": "code",
   "execution_count": 25,
   "id": "35917b2e-2715-4008-9e75-058798f02245",
   "metadata": {},
   "outputs": [
    {
     "name": "stdout",
     "output_type": "stream",
     "text": [
      "Iteration: 0\n",
      "Iteration: 1\n",
      "Iteration: 2\n",
      "Iteration: 3\n",
      "Iteration: 4\n"
     ]
    }
   ],
   "source": [
    "for i in range(5):\n",
    "    print(\"Iteration:\", i)  # Output: 0 to 4"
   ]
  },
  {
   "cell_type": "markdown",
   "id": "555a9fe0-84bb-4aad-924a-08996cc3207b",
   "metadata": {},
   "source": [
    "**Hands-on Example (While Loop):**  "
   ]
  },
  {
   "cell_type": "code",
   "execution_count": 26,
   "id": "4cfa420e-db2e-4070-ac07-36f67e83f2fe",
   "metadata": {},
   "outputs": [
    {
     "name": "stdout",
     "output_type": "stream",
     "text": [
      "Count: 0\n",
      "Count: 1\n",
      "Count: 2\n",
      "Count: 3\n",
      "Count: 4\n"
     ]
    }
   ],
   "source": [
    "count = 0\n",
    "while count < 5:\n",
    "    print(\"Count:\", count)\n",
    "    count += 1  # Output: 0 to 4"
   ]
  },
  {
   "cell_type": "markdown",
   "id": "2a0a303e-9008-445e-8ebc-62793900faad",
   "metadata": {},
   "source": [
    "#### **9. Temperature Conversion Program (Exercise Example)**\n",
    "\n",
    "**Concept:**  \n",
    "Write a program to convert temperatures between Fahrenheit and Celsius.\n",
    "\n",
    "**Hands-on Example:**  "
   ]
  },
  {
   "cell_type": "code",
   "execution_count": 28,
   "id": "32d9550a-14a0-4635-8721-9c6b85929d29",
   "metadata": {},
   "outputs": [
    {
     "name": "stdout",
     "output_type": "stream",
     "text": [
      "37.77777777777778\n",
      "100.004\n"
     ]
    }
   ],
   "source": [
    "def fahrenheit_to_celsius(f):\n",
    "    return (f - 32) / 1.8\n",
    "\n",
    "def celsius_to_fahrenheit(c):\n",
    "    return (c * 1.8) + 32\n",
    "\n",
    "print(fahrenheit_to_celsius(100))  # Example: 37.78°C\n",
    "print(celsius_to_fahrenheit(37.78))  # Example: 100°F"
   ]
  },
  {
   "cell_type": "markdown",
   "id": "06e50f05-95f6-48ed-820e-d64d7afe8ba2",
   "metadata": {},
   "source": [
    "#### **10. Averaging Program (Exercise Example)**\n",
    "\n",
    "**Concept:**  \n",
    "Write a program to calculate the average of a list of numbers.\n",
    "\n",
    "**Hands-on Example:**  "
   ]
  },
  {
   "cell_type": "code",
   "execution_count": 30,
   "id": "a9fc8278-57f9-4a89-83b9-7cc6a22fd6d3",
   "metadata": {},
   "outputs": [
    {
     "name": "stdout",
     "output_type": "stream",
     "text": [
      "Average: 18.0\n"
     ]
    }
   ],
   "source": [
    "numbers = [4, 8, 15, 16, 23, 42]\n",
    "total = 0\n",
    "for num in numbers:\n",
    "    total += num\n",
    "average = total / len(numbers)\n",
    "print(\"Average:\", average)  # Output: Average of the list"
   ]
  },
  {
   "cell_type": "code",
   "execution_count": null,
   "id": "8a1389f7-9769-4e66-b474-9db677c4bf86",
   "metadata": {},
   "outputs": [],
   "source": []
  }
 ],
 "metadata": {
  "kernelspec": {
   "display_name": "Python 3 (ipykernel)",
   "language": "python",
   "name": "python3"
  },
  "language_info": {
   "codemirror_mode": {
    "name": "ipython",
    "version": 3
   },
   "file_extension": ".py",
   "mimetype": "text/x-python",
   "name": "python",
   "nbconvert_exporter": "python",
   "pygments_lexer": "ipython3",
   "version": "3.11.10"
  }
 },
 "nbformat": 4,
 "nbformat_minor": 5
}
